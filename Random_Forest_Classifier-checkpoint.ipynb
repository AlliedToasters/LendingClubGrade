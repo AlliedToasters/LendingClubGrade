{
 "cells": [
  {
   "cell_type": "markdown",
   "metadata": {},
   "source": [
    "<H1>Drill: Build Performant Random Forest Classifier</H1><br><br>\n",
    "The drill here is to predict loan status using a random forest classifier that is as \"lean\" as possible, meaning it uses minimal data to achieve high accuracy (consistently above 90% in cross validation).<br><br>\n",
    "More specifically, the challenge is to exclude payment amount and outstanding principal. Luckily, I'd already spent a lot of time playing with and cleaning this data. Hopefully those hours of data preparation will finally pay off!<br><br>\n",
    "Because of my previous experience with this data set, I'm going to refine the challenge a little bit more. I'd like to try and make the distinction between paid off and charged off loans given only the information that is available to lenders on the Lending Club platform when they fund loans. This would make my model useful to lenders who want to minimize lending risk."
   ]
  },
  {
   "cell_type": "code",
   "execution_count": 1,
   "metadata": {},
   "outputs": [
    {
     "name": "stderr",
     "output_type": "stream",
     "text": [
      "/home/alliedtoasters/anaconda3/envs/dspy3/lib/python3.6/site-packages/IPython/core/interactiveshell.py:2698: DtypeWarning: Columns (0,19,55) have mixed types. Specify dtype option on import or set low_memory=False.\n",
      "  interactivity=interactivity, compiler=compiler, result=result)\n"
     ]
    }
   ],
   "source": [
    "import pandas as pd\n",
    "import numpy as np\n",
    "import matplotlib.pyplot as plt\n",
    "import seaborn as sns\n",
    "import math\n",
    "from matplotlib.mlab import PCA as mlabPCA\n",
    "from sklearn.preprocessing import StandardScaler\n",
    "from sklearn.decomposition import PCA\n",
    "%matplotlib inline\n",
    "\n",
    "df = pd.read_csv(\n",
    "    'LoanStats3d.csv',\n",
    "    skipinitialspace=True,\n",
    "    header=1\n",
    ")\n",
    "\n",
    "df = df[:-2] #Drop last two \"summary\" rows"
   ]
  },
  {
   "cell_type": "code",
   "execution_count": 2,
   "metadata": {
    "collapsed": true
   },
   "outputs": [],
   "source": [
    "#Just look at historical/closed loans\n",
    "loans = df.copy()"
   ]
  },
  {
   "cell_type": "code",
   "execution_count": 3,
   "metadata": {
    "collapsed": true
   },
   "outputs": [],
   "source": [
    "can_use = [] #This list will contain features that lenders can use when looking at loans to invest in.\n",
    "\n",
    "can_use += [     \n",
    "    'issue_d',\n",
    "    'loan_amnt',            #An important feature missing from this data is the FICO score range,\n",
    "    'sub_grade',            #which is available for lenders. Let's see how well we can do without it.\n",
    "    'int_rate',\n",
    "    'term',\n",
    "    'installment',\n",
    "    'home_ownership',\n",
    "    'emp_title', \n",
    "    'emp_length',\n",
    "    'zip_code', \n",
    "    'addr_state', \n",
    "    'verification_status', \n",
    "    'application_type', \n",
    "    'annual_inc',\n",
    "    'annual_inc_joint',\n",
    "    'dti',\n",
    "    'dti_joint',\n",
    "    'earliest_cr_line',\n",
    "    'open_acc',\n",
    "    'total_acc',\n",
    "    'revol_bal',\n",
    "    'revol_util',\n",
    "    'inq_last_6mths',\n",
    "    'acc_now_delinq',\n",
    "    'delinq_amnt',\n",
    "    'delinq_2yrs',\n",
    "    'mths_since_last_delinq',\n",
    "    'pub_rec',\n",
    "    'mths_since_last_record',\n",
    "    'mths_since_last_major_derog',\n",
    "    'collections_12_mths_ex_med'    \n",
    "]\n"
   ]
  },
  {
   "cell_type": "markdown",
   "metadata": {},
   "source": [
    "Let the cleaning begin."
   ]
  },
  {
   "cell_type": "code",
   "execution_count": 4,
   "metadata": {
    "collapsed": true
   },
   "outputs": [],
   "source": [
    "#Convert dollar amounts: floating point to int in cents\n",
    "loans.loan_amnt = loans.loan_amnt.astype('int')*100\n",
    "loans.installment = loans.installment.astype('int')*100\n",
    "loans.annual_inc = loans.annual_inc.astype('int')*100\n",
    "loans.annual_inc_joint = np.where((pd.isnull(loans.annual_inc_joint)), loans.annual_inc, loans.annual_inc_joint)\n",
    "loans.annual_inc_joint = loans.annual_inc_joint.astype('int')*100\n",
    "loans.revol_bal = loans.revol_bal.astype('int')*100\n",
    "loans.delinq_amnt = loans.delinq_amnt.astype('int')*100\n",
    "\n",
    "#Convert strings to numeric types\n",
    "loans.int_rate = pd.to_numeric(loans.int_rate.str.slice(0, -1)) #Convert percentages (strings) to numeric values\n",
    "loans.revol_util = pd.to_numeric(loans.revol_util.str.slice(0, -1))\n",
    "\n",
    "loans.term = pd.to_numeric(loans.term.str.slice(0, 3)).astype('int') #Convert loan term to number\n",
    "loans['term_type'] = np.where((loans.term == 60), 1, 0) #Bool for loan term, as only two types exist.\n",
    "\n",
    "loans.dti_joint = np.where((pd.isnull(loans.dti_joint)), loans.dti, loans.dti_joint) "
   ]
  },
  {
   "cell_type": "code",
   "execution_count": 5,
   "metadata": {
    "collapsed": true
   },
   "outputs": [],
   "source": [
    "#Convert employee length strings to numeric values\n",
    "\n",
    "def get_emp_length(emp_length):\n",
    "    \"\"\"Takes our emp_length data (string) and returns numeric value\n",
    "    in number of years.\n",
    "    \"\"\"\n",
    "    unique_values = {         #keys taken from loans.emp_length.unique()\n",
    "        '10+ years' : 10, \n",
    "        '< 1 year' : .5,      #between 0 and 1\n",
    "        '3 years' : 3, \n",
    "        '9 years' : 9, \n",
    "        '4 years' : 4, \n",
    "        '5 years' : 5,\n",
    "        '1 year' : 1, \n",
    "        '6 years' : 6, \n",
    "        '2 years' : 2, \n",
    "        '7 years' : 7, \n",
    "        '8 years' : 8, \n",
    "        'n/a': 0\n",
    "    }\n",
    "    return unique_values[emp_length]\n",
    "\n",
    "loans.emp_length = loans.emp_length.apply(get_emp_length)"
   ]
  },
  {
   "cell_type": "code",
   "execution_count": 6,
   "metadata": {
    "collapsed": true
   },
   "outputs": [],
   "source": [
    "#Want to convert dates into numeric format.\n",
    "\n",
    "def convert_date(input_string):\n",
    "    \"\"\"changes date from format 'Mon-YYYY' to\n",
    "    an integer number of months before Jan 1, 2016\n",
    "    (when this data was published)\n",
    "    \"\"\"\n",
    "    months_num = {\n",
    "        'Jan' : 1,\n",
    "        'Feb' : 2,\n",
    "        'Mar' : 3,\n",
    "        'Apr' : 4,\n",
    "        'May' : 5,\n",
    "        'Jun' : 6,\n",
    "        'Jul' : 7,\n",
    "        'Aug' : 8,\n",
    "        'Sep' : 9,\n",
    "        'Oct' : 10,\n",
    "        'Nov' : 11,\n",
    "        'Dec' : 12\n",
    "    }\n",
    "    mon = input_string[:3]\n",
    "    year = int(input_string[-4:])\n",
    "    if mon in months_num:\n",
    "        num = months_num[mon]\n",
    "    else:\n",
    "        raise ValueError('{} not found in dictionary'.format(mon))\n",
    "    months_passed = (12 - num) + ((2015 - year) * 12)\n",
    "    if not str(months_passed).isnumeric():\n",
    "        raise Exception('Error: return object not numeric: {}'.format(months_passed))\n",
    "    return months_passed\n",
    "\n",
    "loans.issue_d = loans.issue_d.apply(convert_date)\n",
    "loans.earliest_cr_line = loans.earliest_cr_line.apply(convert_date)"
   ]
  },
  {
   "cell_type": "code",
   "execution_count": 7,
   "metadata": {
    "collapsed": true
   },
   "outputs": [],
   "source": [
    "#Calculate number of months first credit line before loan issued\n",
    "loans['fcl_before_loan'] = loans.earliest_cr_line - loans.issue_d\n",
    "\n",
    "can_use += ['fcl_before_loan']\n",
    "\n",
    "#Remove this feature, as its relevance is encoded into the new feature\n",
    "can_use.remove('earliest_cr_line')\n",
    "#I'll keep issue date in case there's any time-dependent effects that the model can pick up on."
   ]
  },
  {
   "cell_type": "code",
   "execution_count": 8,
   "metadata": {
    "collapsed": true
   },
   "outputs": [],
   "source": [
    "#Convert home status to a numeric value\n",
    "\n",
    "def convert_home(home_type):\n",
    "    \"\"\"Convert housing status to numeric value.\n",
    "    Tries to rank numbers roughly by wealth-association with each\n",
    "    homeownership status.\n",
    "    \"\"\"\n",
    "    unique_values = {   #keys taken from loans.home_status.unique() \n",
    "        'OTHER' : 0, \n",
    "        'NONE' : 0,     #These three vague categories all assigned to zero\n",
    "        'ANY' : 0,\n",
    "        'RENT' : 1,\n",
    "        'MORTGAGE' : 2, \n",
    "        'OWN' : 3\n",
    "    }\n",
    "    return unique_values[home_type]\n",
    "\n",
    "loans.home_ownership = loans.home_ownership.apply(convert_home)"
   ]
  },
  {
   "cell_type": "code",
   "execution_count": 9,
   "metadata": {
    "collapsed": true
   },
   "outputs": [],
   "source": [
    "# Convert grade to numeric value\n",
    "\n",
    "def convert_grade(grade):\n",
    "    \"\"\"Converts borrower grade to numeric value\"\"\"\n",
    "    unique_grades = { #keys taken from loans.grade.unique()\n",
    "        'A1' : 35,\n",
    "        'A2' : 34,\n",
    "        'A3' : 33,\n",
    "        'A4' : 32,\n",
    "        'A5' : 31,\n",
    "        'B1' : 30,\n",
    "        'B2' : 29,\n",
    "        'B3' : 28,\n",
    "        'B4' : 27,\n",
    "        'B5' : 26,\n",
    "        'C1' : 25,\n",
    "        'C2' : 24,\n",
    "        'C3' : 23,\n",
    "        'C4' : 22,\n",
    "        'C5' : 21,\n",
    "        'D1' : 20,\n",
    "        'D2' : 19,\n",
    "        'D3' : 18,\n",
    "        'D4' : 17,\n",
    "        'D5' : 16,\n",
    "        'E1' : 15,\n",
    "        'E2' : 14,\n",
    "        'E3' : 13,\n",
    "        'E4' : 12,\n",
    "        'E5' : 11,\n",
    "        'F1' : 10,\n",
    "        'F2' : 9,\n",
    "        'F3' : 8,\n",
    "        'F4' : 7,\n",
    "        'F5' : 6,\n",
    "        'G1' : 5,\n",
    "        'G2' : 4,\n",
    "        'G3' : 3,\n",
    "        'G4' : 2,\n",
    "        'G5' : 1\n",
    "    }\n",
    "    return unique_grades[grade]\n",
    "\n",
    "loans.sub_grade = loans.sub_grade.apply(convert_grade)"
   ]
  },
  {
   "cell_type": "code",
   "execution_count": 10,
   "metadata": {
    "collapsed": true
   },
   "outputs": [],
   "source": [
    "def handle_nulls(series):  #Use this because high values \n",
    "    \"\"\"Takes pandas series with null values and replaces them with value significantly higher than\n",
    "    maximum value.\n",
    "    \"\"\"\n",
    "    new_val = series.max() + 5 * series.std()  #Set values way higher than mean\n",
    "    nulls = pd.isnull(series)\n",
    "    return np.where(nulls, new_val, series)\n",
    "\n",
    "loans.mths_since_last_delinq = handle_nulls(loans.mths_since_last_delinq)\n",
    "loans.mths_since_last_record = handle_nulls(loans.mths_since_last_record)\n",
    "loans.mths_since_last_major_derog = handle_nulls(loans.mths_since_last_major_derog)"
   ]
  },
  {
   "cell_type": "code",
   "execution_count": 11,
   "metadata": {
    "collapsed": true
   },
   "outputs": [],
   "source": [
    "loans.emp_title = np.where((pd.isnull(loans.emp_title)), 'other', loans.emp_title)\n",
    "\n",
    "titles = {}\n",
    "for i, title in enumerate(loans.emp_title.value_counts().index):\n",
    "    titles[title] = i\n",
    "\n",
    "for row in loans.index: #Set titles by rank of frequency\n",
    "    loans.set_value(row, 'emp_title', titles[loans.emp_title.loc[row]])"
   ]
  },
  {
   "cell_type": "code",
   "execution_count": 12,
   "metadata": {
    "collapsed": true
   },
   "outputs": [],
   "source": [
    "loans.zip_code = pd.to_numeric(loans.zip_code.str[:3]) #Maybe this can help pick up subtle geo-trends"
   ]
  },
  {
   "cell_type": "code",
   "execution_count": 13,
   "metadata": {
    "collapsed": true
   },
   "outputs": [],
   "source": [
    "loans.revol_util = np.where((pd.isnull(loans.revol_util)), 0, loans.revol_util)"
   ]
  },
  {
   "cell_type": "code",
   "execution_count": 14,
   "metadata": {},
   "outputs": [
    {
     "data": {
      "text/plain": [
       "Current               287414\n",
       "Fully Paid             87989\n",
       "Charged Off            29178\n",
       "Late (31-120 days)      9510\n",
       "In Grace Period         4320\n",
       "Late (16-30 days)       1888\n",
       "Default                  796\n",
       "Name: loan_status, dtype: int64"
      ]
     },
     "execution_count": 14,
     "metadata": {},
     "output_type": "execute_result"
    }
   ],
   "source": [
    "loans.loan_status.value_counts()"
   ]
  },
  {
   "cell_type": "code",
   "execution_count": 15,
   "metadata": {},
   "outputs": [],
   "source": [
    "states = {}                                                        #enumerate states\n",
    "for i, state in enumerate(loans.addr_state.value_counts().index):\n",
    "    titles[state] = i\n",
    "\n",
    "for row in loans.index: #Set titles by rank of frequency\n",
    "    loans.set_value(row, 'addr_state', titles[loans.addr_state.loc[row]])"
   ]
  },
  {
   "cell_type": "code",
   "execution_count": 16,
   "metadata": {},
   "outputs": [],
   "source": [
    "def set_verification_status(status):\n",
    "    \"\"\"Enumerates varification statuses.\n",
    "    \"\"\"\n",
    "    statuses = {\n",
    "        'Not Verified' : 0,\n",
    "        'Verified' : 1,\n",
    "        'Source Verified' : 2\n",
    "    }\n",
    "    return statuses[status]\n",
    "\n",
    "loans.verification_status = loans.verification_status.apply(set_verification_status)"
   ]
  },
  {
   "cell_type": "code",
   "execution_count": 17,
   "metadata": {},
   "outputs": [],
   "source": [
    "loans.application_type = np.where((loans.application_type == 'INDIVIDUAL'), 0, 1)"
   ]
  },
  {
   "cell_type": "code",
   "execution_count": 18,
   "metadata": {
    "collapsed": true
   },
   "outputs": [],
   "source": [
    "#Very rough estimate of cash flow, using income and dti\n",
    "loans['cash_flow'] = loans.annual_inc_joint/12 - (loans.dti_joint * loans.annual_inc_joint * .004)\n",
    "can_use += ['cash_flow']"
   ]
  },
  {
   "cell_type": "code",
   "execution_count": 19,
   "metadata": {},
   "outputs": [
    {
     "data": {
      "text/plain": [
       "count    4.210950e+05\n",
       "mean     9.795257e+06\n",
       "std      5.675659e+07\n",
       "min     -5.961667e+08\n",
       "25%     -9.882667e+06\n",
       "50%      5.221333e+06\n",
       "75%      2.281031e+07\n",
       "max      7.871067e+09\n",
       "Name: cash_flow, dtype: float64"
      ]
     },
     "execution_count": 19,
     "metadata": {},
     "output_type": "execute_result"
    }
   ],
   "source": [
    "loans.cash_flow.describe()"
   ]
  },
  {
   "cell_type": "code",
   "execution_count": 20,
   "metadata": {},
   "outputs": [],
   "source": [
    "#I want to try and classify \"good\" from \"bad\" loans, so I'm going to set the target variable into two groups:\n",
    "#On time payers, and late payers of all types. \n",
    "#This makes this model into a useful tool for lenders.\n",
    "good_statuses = ['Current', 'Fully Paid']\n",
    "loans['is_good'] = np.where((loans.loan_status.isin(good_statuses)), 1, 0)"
   ]
  },
  {
   "cell_type": "markdown",
   "metadata": {},
   "source": [
    "<H2>Random Forest Classifier</H2><br><br>\n",
    "Now I'm finally ready to put my classifier together!"
   ]
  },
  {
   "cell_type": "code",
   "execution_count": 21,
   "metadata": {
    "collapsed": true
   },
   "outputs": [],
   "source": [
    "from sklearn import ensemble\n",
    "from sklearn.model_selection import cross_val_score"
   ]
  },
  {
   "cell_type": "code",
   "execution_count": 65,
   "metadata": {},
   "outputs": [],
   "source": [
    "rfc = ensemble.RandomForestClassifier(\n",
    "    criterion='entropy',                #These conditions seem to do best.\n",
    "    max_depth=11\n",
    ")\n",
    "sample_ = loans.sample(frac=1)  #Shuffle rows (cross_val_score seems to have sampling bias)\n",
    "\n",
    "X = np.nan_to_num(sample_[can_use]) #Deals with some inf values that appeared while making features\n",
    "\n",
    "Y = sample_['is_good']"
   ]
  },
  {
   "cell_type": "code",
   "execution_count": 66,
   "metadata": {},
   "outputs": [
    {
     "name": "stdout",
     "output_type": "stream",
     "text": [
      "mean score is : 0.8914995429597093 +/- 3.398675636643912e-05, min: 0.8914721318482984\n"
     ]
    }
   ],
   "source": [
    "#rfc.fit(X, Y)\n",
    "\n",
    "scores = pd.Series(cross_val_score(rfc, X, Y, cv=10))\n",
    "\n",
    "#Note the extremely consistent performance!\n",
    "print('mean score is : {} +/- {}, min: {}'.format(scores.mean(), scores.std(), scores.min()))"
   ]
  },
  {
   "cell_type": "code",
   "execution_count": 44,
   "metadata": {},
   "outputs": [
    {
     "data": {
      "text/plain": [
       "0    0.891477\n",
       "1    0.891477\n",
       "2    0.891498\n",
       "3    0.891496\n",
       "4    0.891520\n",
       "5    0.891496\n",
       "6    0.891496\n",
       "7    0.891496\n",
       "8    0.891496\n",
       "9    0.891472\n",
       "dtype: float64"
      ]
     },
     "execution_count": 44,
     "metadata": {},
     "output_type": "execute_result"
    }
   ],
   "source": [
    "scores"
   ]
  },
  {
   "cell_type": "markdown",
   "metadata": {},
   "source": [
    "I'll take it!<br>\n",
    "\n",
    "<H2>Conclusion</H2><br>\n",
    "\n",
    "Although I've come just short of the goal of getting above 90% accuracy, I'm very happy to have gotten this close and to have reduced the variance in score so drastically. With a lot more tweaking, I think we could get that mean score up to 90%.<br><br>\n",
    "More important to me is the fact that this model is actually usable to investors. It would be more helpful to train on more recent loans (data up to July 2017 is available), but with high confidence in 90% accurate predictions on \"good\" loans, lenders could find this model useful in minimizing risk.\n"
   ]
  },
  {
   "cell_type": "code",
   "execution_count": null,
   "metadata": {
    "collapsed": true
   },
   "outputs": [],
   "source": []
  }
 ],
 "metadata": {
  "kernelspec": {
   "display_name": "Environment (conda_dspy3)",
   "language": "python",
   "name": "conda_dspy3"
  },
  "language_info": {
   "codemirror_mode": {
    "name": "ipython",
    "version": 3
   },
   "file_extension": ".py",
   "mimetype": "text/x-python",
   "name": "python",
   "nbconvert_exporter": "python",
   "pygments_lexer": "ipython3",
   "version": "3.6.2"
  }
 },
 "nbformat": 4,
 "nbformat_minor": 2
}
